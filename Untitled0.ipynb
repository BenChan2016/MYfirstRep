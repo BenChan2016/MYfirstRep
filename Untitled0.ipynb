{
 "metadata": {
  "name": "",
  "signature": "sha256:b39549bbd620ab02d61d188e3f0924601fdce82715fb3063af83dd3456934099"
 },
 "nbformat": 3,
 "nbformat_minor": 0,
 "worksheets": []
}